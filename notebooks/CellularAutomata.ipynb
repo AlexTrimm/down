{
 "cells": [
  {
   "cell_type": "code",
   "execution_count": 1,
   "metadata": {},
   "outputs": [],
   "source": [
    "import sys\n",
    "from functools import reduce\n",
    "import time\n",
    "\n",
    "import matplotlib.pyplot as plt\n",
    "import numpy as np\n",
    "import tensorflow_datasets as tfds\n",
    "import tensorflow as tf\n",
    "\n",
    "%matplotlib inline\n",
    "%config IPComplete.greedy=True"
   ]
  },
  {
   "cell_type": "code",
   "execution_count": 2,
   "metadata": {},
   "outputs": [],
   "source": [
    "# Local libraries\n",
    "sys.path.append('../')\n",
    "from down.lib.automata import automata"
   ]
  },
  {
   "cell_type": "code",
   "execution_count": 3,
   "metadata": {},
   "outputs": [],
   "source": [
    "def filter(n):\n",
    "    assert n<=7\n",
    "    assert n>=0\n",
    "\n",
    "    arr = np.zeros(3)\n",
    "    for i in range(2,-1,-1):\n",
    "        pos_val = 2**(i)\n",
    "        if n >= pos_val:\n",
    "            arr[i]=1\n",
    "            n-=pos_val\n",
    "    return arr\n",
    "\n",
    "def filters(rule_number):\n",
    "    filters = []\n",
    "    inc = \"{0:b}\".format(rule_number)[::-1]\n",
    "    for i,v in enumerate(inc):\n",
    "        if v=='1':\n",
    "            filters.append(filter(i))\n",
    "    return filters\n",
    "\n",
    "def apply_filter(state, f):\n",
    "    vf = np.vectorize(lambda x: 1 if x==f.sum() else 0)\n",
    "    return vf(np.convolve(state, f, mode='same'))\n",
    "\n",
    "def apply_filters(state, fs):\n",
    "    res = np.array([apply_filter(state, f) for f in fs])\n",
    "    res = np.sum(res,axis=0)\n",
    "    return (res%2)"
   ]
  },
  {
   "cell_type": "markdown",
   "metadata": {},
   "source": [
    "#### Run it "
   ]
  },
  {
   "cell_type": "code",
   "execution_count": 4,
   "metadata": {},
   "outputs": [],
   "source": [
    "def middle_init_state(n):\n",
    "    state = np.zeros(n,dtype=int)\n",
    "    state[n//2]=1\n",
    "    return state"
   ]
  },
  {
   "cell_type": "code",
   "execution_count": 5,
   "metadata": {},
   "outputs": [],
   "source": [
    "RULE_SET = 90\n",
    "INIT = middle_init_state(256)"
   ]
  },
  {
   "cell_type": "code",
   "execution_count": 6,
   "metadata": {},
   "outputs": [],
   "source": [
    "from scipy.stats import bernoulli"
   ]
  },
  {
   "cell_type": "code",
   "execution_count": 7,
   "metadata": {},
   "outputs": [],
   "source": [
    "SAMPLES_PER_DENSITY = 100\n",
    "DENSITIES = [.1*x for x in range(2,9)]\n",
    "WIDTH = 61\n",
    "GENERATIONS = 2*WIDTH\n",
    "RULE_SET = 90"
   ]
  },
  {
   "cell_type": "code",
   "execution_count": 8,
   "metadata": {},
   "outputs": [],
   "source": [
    "inits = []\n",
    "for p in DENSITIES:\n",
    "    for _ in range(SAMPLES_PER_DENSITY):\n",
    "        arr = np.random.random_sample(WIDTH) > (1-p)\n",
    "        inits.append(arr)"
   ]
  },
  {
   "cell_type": "code",
   "execution_count": 9,
   "metadata": {},
   "outputs": [],
   "source": [
    "patterns = [automata.generate_1d(RULE_SET, init, GENERATIONS) for init in inits]"
   ]
  },
  {
   "cell_type": "code",
   "execution_count": 10,
   "metadata": {},
   "outputs": [
    {
     "data": {
      "text/plain": [
       "<matplotlib.image.AxesImage at 0x147321710>"
      ]
     },
     "execution_count": 10,
     "metadata": {},
     "output_type": "execute_result"
    },
    {
     "data": {
      "image/png": "[encoded data removed]",
      "text/plain": [
       "<Figure size 432x288 with 1 Axes>"
      ]
     },
     "metadata": {
      "needs_background": "light"
     },
     "output_type": "display_data"
    }
   ],
   "source": [
    "plt.imshow(1-patterns[400],cmap='gray')"
   ]
  },
  {
   "cell_type": "code",
   "execution_count": 11,
   "metadata": {},
   "outputs": [],
   "source": [
    "import itertools"
   ]
  },
  {
   "cell_type": "code",
   "execution_count": 12,
   "metadata": {},
   "outputs": [],
   "source": [
    "def patterns_to_x_y(pattern):\n",
    "    ins = []\n",
    "    outs = []\n",
    "    for i in range(pattern.shape[0]-1):\n",
    "        ins.append(pattern[i])\n",
    "        outs.append(pattern[i+1])\n",
    "    return ins, outs\n",
    "\n",
    "def patterns_to_dataset(patterns):\n",
    "    pairs = [patterns_to_x_y(pattern) for pattern in patterns]\n",
    "    x_list, y_list = zip(*pairs)\n",
    "    xx = list(itertools.chain(*x_list))\n",
    "    yy = list(itertools.chain(*y_list))\n",
    "    return xx, yy"
   ]
  },
  {
   "cell_type": "code",
   "execution_count": 13,
   "metadata": {},
   "outputs": [],
   "source": [
    "x,y = patterns_to_dataset(patterns)\n",
    "x = np.array(x, dtype=np.float)\n",
    "y = np.array(y,dtype=np.float)"
   ]
  },
  {
   "cell_type": "code",
   "execution_count": 14,
   "metadata": {},
   "outputs": [],
   "source": [
    "h = tf.data.Dataset.from_tensor_slices({'x':x, 'y':y})"
   ]
  },
  {
   "cell_type": "code",
   "execution_count": 15,
   "metadata": {},
   "outputs": [],
   "source": [
    "class BasicModel(tf.keras.Model):\n",
    "    def __init__(self, h1, width):\n",
    "        super(BasicModel, self).__init__()\n",
    "        self.h1 = tf.keras.layers.Dense(h1, activation='relu')\n",
    "        self.h2 = tf.keras.layers.Dense(width, activation='relu')\n",
    "        self.do1 = tf.keras.layers.Dropout(.2)\n",
    "        \n",
    "    def call(self, x):\n",
    "        o1 = self.do1(self.h1(x))\n",
    "        return self.h2(o1)"
   ]
  },
  {
   "cell_type": "code",
   "execution_count": 16,
   "metadata": {},
   "outputs": [],
   "source": [
    "basic_model = BasicModel(125, WIDTH)\n",
    "\n",
    "loss_function = tf.keras.losses.binary_crossentropy\n",
    "optimizer = tf.keras.optimizers.Adam(1e-4, beta_1=0.9, beta_2=0.98, epsilon=1e-9)\n",
    "train_loss = tf.keras.metrics.Mean(name='train_loss')"
   ]
  },
  {
   "cell_type": "code",
   "execution_count": 37,
   "metadata": {},
   "outputs": [],
   "source": [
    "train_step_signature = [\n",
    "    tf.TensorSpec(shape=(None, None), dtype=tf.float64),\n",
    "    tf.TensorSpec(shape=(None, None), dtype=tf.float64),\n",
    "]\n",
    "\n",
    "@tf.function(input_signature=train_step_signature)\n",
    "def train_step(inp, tar):\n",
    "\n",
    "    with tf.GradientTape() as tape:\n",
    "        predictions = basic_model(inp)\n",
    "        loss = loss_function(tar, predictions)\n",
    "        \n",
    "    gradients = tape.gradient(loss, basic_model.trainable_variables)\n",
    "    optimizer.apply_gradients(zip(gradients, basic_model.trainable_variables))\n",
    "\n",
    "    train_loss(loss)\n",
    "    #train_accuracy(accuracy_function(tar_real, predictions))"
   ]
  },
  {
   "cell_type": "code",
   "execution_count": 31,
   "metadata": {},
   "outputs": [],
   "source": [
    "#basic_model.compile(optimizer, loss_function)\n",
    "#basic_model.fit(x,y,128, epochs=40)"
   ]
  },
  {
   "cell_type": "code",
   "execution_count": 32,
   "metadata": {},
   "outputs": [],
   "source": [
    "#loss_function(np.array([1,3,4]),np.array([5,6,7])).numpy()"
   ]
  },
  {
   "cell_type": "code",
   "execution_count": 33,
   "metadata": {},
   "outputs": [],
   "source": [
    "#basic_model(batch['x'])"
   ]
  },
  {
   "cell_type": "code",
   "execution_count": 40,
   "metadata": {
    "scrolled": false
   },
   "outputs": [
    {
     "name": "stdout",
     "output_type": "stream",
     "text": [
      "Epoch 1 Batch 0 Loss 0.0003\n",
      "Epoch 1 Batch 40 Loss 0.0001\n",
      "Epoch 1 Batch 80 Loss 0.0001\n",
      "Epoch 1 Batch 120 Loss 0.0001\n",
      "Epoch 1 Batch 160 Loss 0.0001\n",
      "Epoch 1 Batch 200 Loss 0.0002\n",
      "Epoch 1 Batch 240 Loss 0.0002\n",
      "Epoch 1 Batch 280 Loss 0.0002\n",
      "Epoch 1 Batch 320 Loss 0.0003\n",
      "Epoch 1 Batch 360 Loss 0.0003\n",
      "Epoch 1 Batch 400 Loss 0.0003\n",
      "Epoch 1 Batch 440 Loss 0.0003\n",
      "Epoch 1 Batch 480 Loss 0.0003\n",
      "Epoch 1 Batch 520 Loss 0.0003\n",
      "Epoch 1 Batch 560 Loss 0.0003\n",
      "Epoch 1 Batch 600 Loss 0.0003\n",
      "Epoch 1 Batch 640 Loss 0.0003\n",
      "Epoch 2 Batch 0 Loss 0.0003\n",
      "Epoch 2 Batch 40 Loss 0.0001\n",
      "Epoch 2 Batch 80 Loss 0.0001\n",
      "Epoch 2 Batch 120 Loss 0.0001\n",
      "Epoch 2 Batch 160 Loss 0.0001\n",
      "Epoch 2 Batch 200 Loss 0.0002\n",
      "Epoch 2 Batch 240 Loss 0.0002\n",
      "Epoch 2 Batch 280 Loss 0.0002\n",
      "Epoch 2 Batch 320 Loss 0.0003\n",
      "Epoch 2 Batch 360 Loss 0.0003\n",
      "Epoch 2 Batch 400 Loss 0.0003\n",
      "Epoch 2 Batch 440 Loss 0.0003\n",
      "Epoch 2 Batch 480 Loss 0.0003\n",
      "Epoch 2 Batch 520 Loss 0.0003\n",
      "Epoch 2 Batch 560 Loss 0.0003\n",
      "Epoch 2 Batch 600 Loss 0.0003\n",
      "Epoch 2 Batch 640 Loss 0.0003\n",
      "Epoch 3 Batch 0 Loss 0.0003\n",
      "Epoch 3 Batch 40 Loss 0.0001\n",
      "Epoch 3 Batch 80 Loss 0.0001\n",
      "Epoch 3 Batch 120 Loss 0.0001\n",
      "Epoch 3 Batch 160 Loss 0.0001\n",
      "Epoch 3 Batch 200 Loss 0.0002\n",
      "Epoch 3 Batch 240 Loss 0.0002\n",
      "Epoch 3 Batch 280 Loss 0.0002\n",
      "Epoch 3 Batch 320 Loss 0.0002\n",
      "Epoch 3 Batch 360 Loss 0.0003\n",
      "Epoch 3 Batch 400 Loss 0.0003\n",
      "Epoch 3 Batch 440 Loss 0.0003\n",
      "Epoch 3 Batch 480 Loss 0.0003\n",
      "Epoch 3 Batch 520 Loss 0.0003\n",
      "Epoch 3 Batch 560 Loss 0.0003\n",
      "Epoch 3 Batch 600 Loss 0.0003\n",
      "Epoch 3 Batch 640 Loss 0.0003\n",
      "Epoch 4 Batch 0 Loss 0.0002\n",
      "Epoch 4 Batch 40 Loss 0.0001\n",
      "Epoch 4 Batch 80 Loss 0.0001\n",
      "Epoch 4 Batch 120 Loss 0.0001\n",
      "Epoch 4 Batch 160 Loss 0.0001\n",
      "Epoch 4 Batch 200 Loss 0.0002\n",
      "Epoch 4 Batch 240 Loss 0.0002\n",
      "Epoch 4 Batch 280 Loss 0.0002\n",
      "Epoch 4 Batch 320 Loss 0.0002\n",
      "Epoch 4 Batch 360 Loss 0.0003\n",
      "Epoch 4 Batch 400 Loss 0.0003\n",
      "Epoch 4 Batch 440 Loss 0.0003\n",
      "Epoch 4 Batch 480 Loss 0.0003\n",
      "Epoch 4 Batch 520 Loss 0.0003\n",
      "Epoch 4 Batch 560 Loss 0.0003\n",
      "Epoch 4 Batch 600 Loss 0.0003\n",
      "Epoch 4 Batch 640 Loss 0.0003\n",
      "Epoch 5 Batch 0 Loss 0.0002\n",
      "Epoch 5 Batch 40 Loss 0.0001\n",
      "Epoch 5 Batch 80 Loss 0.0001\n",
      "Epoch 5 Batch 120 Loss 0.0001\n",
      "Epoch 5 Batch 160 Loss 0.0001\n",
      "Epoch 5 Batch 200 Loss 0.0002\n",
      "Epoch 5 Batch 240 Loss 0.0002\n",
      "Epoch 5 Batch 280 Loss 0.0002\n",
      "Epoch 5 Batch 320 Loss 0.0002\n",
      "Epoch 5 Batch 360 Loss 0.0002\n",
      "Epoch 5 Batch 400 Loss 0.0003\n",
      "Epoch 5 Batch 440 Loss 0.0003\n",
      "Epoch 5 Batch 480 Loss 0.0003\n",
      "Epoch 5 Batch 520 Loss 0.0003\n",
      "Epoch 5 Batch 560 Loss 0.0003\n",
      "Epoch 5 Batch 600 Loss 0.0003\n",
      "Epoch 5 Batch 640 Loss 0.0003\n",
      "Epoch 6 Batch 0 Loss 0.0002\n",
      "Epoch 6 Batch 40 Loss 0.0001\n",
      "Epoch 6 Batch 80 Loss 0.0001\n",
      "Epoch 6 Batch 120 Loss 0.0001\n",
      "Epoch 6 Batch 160 Loss 0.0001\n",
      "Epoch 6 Batch 200 Loss 0.0002\n",
      "Epoch 6 Batch 240 Loss 0.0002\n",
      "Epoch 6 Batch 280 Loss 0.0002\n",
      "Epoch 6 Batch 320 Loss 0.0002\n",
      "Epoch 6 Batch 360 Loss 0.0002\n",
      "Epoch 6 Batch 400 Loss 0.0002\n",
      "Epoch 6 Batch 440 Loss 0.0002\n",
      "Epoch 6 Batch 480 Loss 0.0003\n",
      "Epoch 6 Batch 520 Loss 0.0002\n",
      "Epoch 6 Batch 560 Loss 0.0003\n",
      "Epoch 6 Batch 600 Loss 0.0003\n",
      "Epoch 6 Batch 640 Loss 0.0003\n",
      "Epoch 7 Batch 0 Loss 0.0002\n",
      "Epoch 7 Batch 40 Loss 0.0001\n",
      "Epoch 7 Batch 80 Loss 0.0001\n",
      "Epoch 7 Batch 120 Loss 0.0001\n",
      "Epoch 7 Batch 160 Loss 0.0001\n",
      "Epoch 7 Batch 200 Loss 0.0001\n",
      "Epoch 7 Batch 240 Loss 0.0002\n",
      "Epoch 7 Batch 280 Loss 0.0002\n",
      "Epoch 7 Batch 320 Loss 0.0002\n",
      "Epoch 7 Batch 360 Loss 0.0002\n",
      "Epoch 7 Batch 400 Loss 0.0002\n",
      "Epoch 7 Batch 440 Loss 0.0002\n",
      "Epoch 7 Batch 480 Loss 0.0002\n",
      "Epoch 7 Batch 520 Loss 0.0002\n",
      "Epoch 7 Batch 560 Loss 0.0002\n",
      "Epoch 7 Batch 600 Loss 0.0003\n",
      "Epoch 7 Batch 640 Loss 0.0003\n",
      "Epoch 8 Batch 0 Loss 0.0002\n",
      "Epoch 8 Batch 40 Loss 0.0001\n",
      "Epoch 8 Batch 80 Loss 0.0001\n",
      "Epoch 8 Batch 120 Loss 0.0001\n",
      "Epoch 8 Batch 160 Loss 0.0001\n",
      "Epoch 8 Batch 200 Loss 0.0001\n",
      "Epoch 8 Batch 240 Loss 0.0002\n",
      "Epoch 8 Batch 280 Loss 0.0002\n",
      "Epoch 8 Batch 320 Loss 0.0002\n",
      "Epoch 8 Batch 360 Loss 0.0002\n",
      "Epoch 8 Batch 400 Loss 0.0002\n",
      "Epoch 8 Batch 440 Loss 0.0002\n",
      "Epoch 8 Batch 480 Loss 0.0002\n",
      "Epoch 8 Batch 520 Loss 0.0002\n",
      "Epoch 8 Batch 560 Loss 0.0002\n",
      "Epoch 8 Batch 600 Loss 0.0002\n",
      "Epoch 8 Batch 640 Loss 0.0002\n",
      "Epoch 9 Batch 0 Loss 0.0002\n",
      "Epoch 9 Batch 40 Loss 0.0001\n",
      "Epoch 9 Batch 80 Loss 0.0001\n",
      "Epoch 9 Batch 120 Loss 0.0001\n",
      "Epoch 9 Batch 160 Loss 0.0001\n",
      "Epoch 9 Batch 200 Loss 0.0001\n",
      "Epoch 9 Batch 240 Loss 0.0002\n",
      "Epoch 9 Batch 280 Loss 0.0002\n",
      "Epoch 9 Batch 320 Loss 0.0002\n",
      "Epoch 9 Batch 360 Loss 0.0002\n",
      "Epoch 9 Batch 400 Loss 0.0002\n",
      "Epoch 9 Batch 440 Loss 0.0002\n",
      "Epoch 9 Batch 480 Loss 0.0002\n",
      "Epoch 9 Batch 520 Loss 0.0002\n",
      "Epoch 9 Batch 560 Loss 0.0002\n",
      "Epoch 9 Batch 600 Loss 0.0002\n",
      "Epoch 9 Batch 640 Loss 0.0002\n",
      "Epoch 10 Batch 0 Loss 0.0002\n",
      "Epoch 10 Batch 40 Loss 0.0001\n",
      "Epoch 10 Batch 80 Loss 0.0001\n",
      "Epoch 10 Batch 120 Loss 0.0001\n",
      "Epoch 10 Batch 160 Loss 0.0001\n",
      "Epoch 10 Batch 200 Loss 0.0001\n",
      "Epoch 10 Batch 240 Loss 0.0001\n",
      "Epoch 10 Batch 280 Loss 0.0001\n",
      "Epoch 10 Batch 320 Loss 0.0002\n",
      "Epoch 10 Batch 360 Loss 0.0002\n",
      "Epoch 10 Batch 400 Loss 0.0002\n",
      "Epoch 10 Batch 440 Loss 0.0002\n",
      "Epoch 10 Batch 480 Loss 0.0002\n",
      "Epoch 10 Batch 520 Loss 0.0002\n",
      "Epoch 10 Batch 560 Loss 0.0002\n",
      "Epoch 10 Batch 600 Loss 0.0002\n",
      "Epoch 10 Batch 640 Loss 0.0002\n"
     ]
    }
   ],
   "source": [
    "epochs = 10\n",
    "data = h.batch(128)\n",
    "for epoch in range(epochs):\n",
    "    \n",
    "    train_loss.reset_states()\n",
    "    for batch_num, batch in enumerate(data):\n",
    "        train_step(batch['x'], batch['y'])\n",
    "        if (batch_num%40)==0:\n",
    "            s = 'Epoch {} Batch {} Loss {:.4f}'\n",
    "            print(s.format(epoch + 1, batch_num, train_loss.result()))\n",
    "          \n"
   ]
  },
  {
   "cell_type": "code",
   "execution_count": null,
   "metadata": {},
   "outputs": [],
   "source": [
    "p = basic_model(x[:4,:])"
   ]
  },
  {
   "cell_type": "code",
   "execution_count": null,
   "metadata": {},
   "outputs": [],
   "source": [
    "plt.scatter(p[0],y[0])"
   ]
  },
  {
   "cell_type": "code",
   "execution_count": null,
   "metadata": {},
   "outputs": [],
   "source": [
    "plt.hist(p[0])"
   ]
  },
  {
   "cell_type": "code",
   "execution_count": null,
   "metadata": {},
   "outputs": [],
   "source": []
  }
 ],
 "metadata": {
  "kernelspec": {
   "display_name": "Python 3",
   "language": "python",
   "name": "python3"
  },
  "language_info": {
   "codemirror_mode": {
    "name": "ipython",
    "version": 3
   },
   "file_extension": ".py",
   "mimetype": "text/x-python",
   "name": "python",
   "nbconvert_exporter": "python",
   "pygments_lexer": "ipython3",
   "version": "3.7.3"
  }
 },
 "nbformat": 4,
 "nbformat_minor": 4
}
